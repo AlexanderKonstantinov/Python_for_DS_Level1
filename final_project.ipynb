{
 "cells": [
  {
   "cell_type": "markdown",
   "metadata": {},
   "source": [
    "## Курсовой проект для курса \"Python для Data Science\""
   ]
  },
  {
   "cell_type": "code",
   "execution_count": 1,
   "metadata": {},
   "outputs": [],
   "source": [
    "import numpy as np\n",
    "import pandas as pd\n",
    "import matplotlib.pyplot as plt\n",
    "import seaborn as sns\n",
    "\n",
    "from sklearn.model_selection import train_test_split\n",
    "from sklearn.linear_model import LinearRegression as LR, Ridge\n",
    "from sklearn.ensemble import RandomForestRegressor as RF\n",
    "from sklearn.metrics import r2_score as r2, mean_squared_error as mse\n",
    "from sklearn.model_selection import GridSearchCV\n",
    "\n",
    "import warnings\n",
    "warnings.filterwarnings('ignore')"
   ]
  },
  {
   "cell_type": "code",
   "execution_count": 2,
   "metadata": {},
   "outputs": [],
   "source": [
    "data_base = pd.read_csv('train.csv')\n",
    "t_data_base = pd.read_csv('test.csv')"
   ]
  },
  {
   "cell_type": "code",
   "execution_count": 3,
   "metadata": {},
   "outputs": [],
   "source": [
    "data = data_base.copy()"
   ]
  },
  {
   "cell_type": "code",
   "execution_count": 4,
   "metadata": {},
   "outputs": [],
   "source": [
    "def prepare_lifesquare(df, df_source):\n",
    "    df.loc[df.LifeSquare > 1000, 'LifeSquare'] = df.LifeSquare / 100\n",
    "    df.LifeSquare = df.LifeSquare.fillna(df_source.LifeSquare.median())\n",
    "    return df"
   ]
  },
  {
   "cell_type": "code",
   "execution_count": 5,
   "metadata": {},
   "outputs": [],
   "source": [
    "def prepare_square(df):\n",
    "    df.loc[df.LifeSquare > df.Square, 'Square'] = df.LifeSquare\n",
    "    df.loc[df.Square > (df['Rooms'] * 40 + df.KitchenSquare), 'Square'] = df.Rooms * 40 + df.KitchenSquare\n",
    "    df.loc[df.Square < (df.Rooms * 15), 'Square'] = df.Rooms * 15\n",
    "    return df"
   ]
  },
  {
   "cell_type": "code",
   "execution_count": 6,
   "metadata": {
    "scrolled": true
   },
   "outputs": [],
   "source": [
    "# Средняя цена по район и количеству комнат\n",
    "data_stat1 = data.groupby(['DistrictId', 'Rooms'], as_index=False)[['Price']].mean().rename(columns={'Price': 'mean_price'})"
   ]
  },
  {
   "cell_type": "code",
   "execution_count": 7,
   "metadata": {},
   "outputs": [],
   "source": [
    "def join_stats1(df, data_stat1, df_source, mode):\n",
    "    df = pd.merge(df, data_stat1, on=['DistrictId', 'Rooms'], how='left')\n",
    "    if mode == 'test':\n",
    "        df.mean_price = df.mean_price.fillna(df_source.mean_price.mean())\n",
    "    return df"
   ]
  },
  {
   "cell_type": "code",
   "execution_count": 8,
   "metadata": {},
   "outputs": [],
   "source": [
    "price_per_meter = pd.DataFrame(data.Price / data.Square)\n",
    "data['price_per_meter'] = price_per_meter\n",
    "# Средняя цена за 1 кв. метр в районах\n",
    "data_stat2 = data.groupby(['DistrictId'], as_index=False)[['price_per_meter']].mean().rename(columns={'price_per_meter': 'price_per_meter_by_district'})"
   ]
  },
  {
   "cell_type": "code",
   "execution_count": 9,
   "metadata": {},
   "outputs": [],
   "source": [
    "def join_stats2(df, data_stat2, df_source, mode):\n",
    "    df = pd.merge(df, data_stat2, on=['DistrictId'], how='left')\n",
    "    if mode == 'test':\n",
    "        df.price_per_meter_by_district = df.price_per_meter_by_district.fillna(df_source.price_per_meter_by_district.mean())\n",
    "    return df\n"
   ]
  },
  {
   "cell_type": "code",
   "execution_count": 10,
   "metadata": {},
   "outputs": [],
   "source": [
    "def prepare_df(df, df_source, data_stat1, data_stat2, mode='train'):\n",
    "    \n",
    "    # Гипотеза 1 \n",
    "    # - редактирование выбросов по HouseYear\n",
    "    df.loc[df.HouseYear == 20052011, 'HouseYear'] = 2008\n",
    "    df.loc[df.HouseYear == 4968, 'HouseYear'] = 1968\n",
    "\n",
    "    # Гипотеза 2 \n",
    "    # - редактирование выбросов по Rooms\n",
    "    df.loc[df.Rooms == 19, 'Rooms'] = 1\n",
    "    df.loc[df.Rooms == 10, 'Rooms'] = 2\n",
    "    df.loc[df.Rooms == 6, 'Rooms'] = 2\n",
    "    df.loc[df.Rooms == 0, 'Rooms'] = 1    \n",
    "    \n",
    "    # Гипотеза 3 \n",
    "    # - деление на 100 значений переменной LifeSquare, если они > 1000;\n",
    "    # - заполнение пустых значений медианным\n",
    "    df = prepare_lifesquare(df, df_source)\n",
    "    \n",
    "    # Гипотеза 5\n",
    "    # - замена значений Square значениями LifeSquare, если они меньше\n",
    "    # - редактирование выбросов\n",
    "    df = prepare_square(df)\n",
    "    \n",
    "    # Гипотеза 6\n",
    "    # - добавление признака, отражающего среднюю стоимость за комнаты в районах\n",
    "    df = join_stats1(df, data_stat1, df_source, mode)\n",
    "    \n",
    "    # Гипотеза 7\n",
    "    # - замена значений Floor значениями HouseFloor, если они меньше\n",
    "    df.loc[df.Floor > df.HouseFloor, 'HouseFloor'] = df.loc[df.Floor > df.HouseFloor, 'Floor']\n",
    "           \n",
    "    # Гипотеза 8 \n",
    "    # - добавление признака, отражающего среднюю стоимость за 1 кв. метр в районах\n",
    "    df = join_stats2(df, data_stat2, df_source, mode)\n",
    "    \n",
    "    return df"
   ]
  },
  {
   "cell_type": "code",
   "execution_count": 11,
   "metadata": {},
   "outputs": [],
   "source": [
    "data = prepare_df(data, data, data_stat1, data_stat2)"
   ]
  },
  {
   "cell_type": "code",
   "execution_count": 12,
   "metadata": {},
   "outputs": [],
   "source": [
    "features = data[['Rooms', 'Square', 'LifeSquare', 'HouseYear', 'mean_price', \n",
    "                 'HouseFloor', 'price_per_meter_by_district']]\n",
    "target= data[['Price']]"
   ]
  },
  {
   "cell_type": "code",
   "execution_count": 13,
   "metadata": {},
   "outputs": [],
   "source": [
    "def test_hypothesis(features, target):\n",
    "    X_train, X_test, y_train, y_test = train_test_split(features, target, test_size=0.3, random_state=42)\n",
    "    \n",
    "    model1 = LR()\n",
    "    model2 = Ridge()\n",
    "    model3 = RF()\n",
    "    \n",
    "    model1.fit(X_train, y_train)\n",
    "    model2.fit(X_train, y_train)\n",
    "    model3.fit(X_train, y_train)\n",
    "    \n",
    "    y_pred_1 = model1.predict(X_test)\n",
    "    y_pred_2 = model2.predict(X_test)\n",
    "    y_pred_3 = model3.predict(X_test)\n",
    "    \n",
    "    print(mse(y_test, y_pred_1), r2(y_test, y_pred_1))\n",
    "    print(mse(y_test, y_pred_2), r2(y_test, y_pred_2))\n",
    "    print(mse(y_test, y_pred_3), r2(y_test, y_pred_3))\n",
    "    return"
   ]
  },
  {
   "cell_type": "code",
   "execution_count": 14,
   "metadata": {
    "scrolled": true
   },
   "outputs": [
    {
     "name": "stdout",
     "output_type": "stream",
     "text": [
      "2675245666.28519 0.6889883906084198\n",
      "2675222190.276896 0.6889911198198764\n",
      "2455063833.6298866 0.7145857056497718\n"
     ]
    }
   ],
   "source": [
    "test_hypothesis(features, target)"
   ]
  },
  {
   "cell_type": "markdown",
   "metadata": {},
   "source": [
    "## Проверка модели"
   ]
  },
  {
   "cell_type": "code",
   "execution_count": 15,
   "metadata": {},
   "outputs": [],
   "source": [
    "data = data_base.copy()"
   ]
  },
  {
   "cell_type": "code",
   "execution_count": 16,
   "metadata": {},
   "outputs": [],
   "source": [
    "feats=['Rooms', 'Square', 'LifeSquare', 'HouseYear', 'mean_price', \n",
    "       'HouseFloor', 'price_per_meter_by_district']"
   ]
  },
  {
   "cell_type": "markdown",
   "metadata": {},
   "source": [
    "### Определение оптимальных параметров"
   ]
  },
  {
   "cell_type": "code",
   "execution_count": 17,
   "metadata": {},
   "outputs": [],
   "source": [
    "params = {'min_samples_leaf': [3, 5, 7, 10], \n",
    "          'n_estimators': [25, 50, 75, 100],\n",
    "          'max_depth': [3, 5, 7]\n",
    "         }"
   ]
  },
  {
   "cell_type": "code",
   "execution_count": 18,
   "metadata": {},
   "outputs": [],
   "source": [
    "regr = GridSearchCV(RF(), param_grid=params, cv=2)"
   ]
  },
  {
   "cell_type": "code",
   "execution_count": 19,
   "metadata": {},
   "outputs": [],
   "source": [
    "data = prepare_df(data, data, data_stat1, data_stat2)"
   ]
  },
  {
   "cell_type": "code",
   "execution_count": 20,
   "metadata": {
    "scrolled": true
   },
   "outputs": [],
   "source": [
    "# regr.fit(data.loc[:,feats], data['Price'])\n",
    "# print(regr.best_params_)\n",
    "# print(regr.best_score_)"
   ]
  },
  {
   "cell_type": "markdown",
   "metadata": {},
   "source": [
    "### Проверка валидационной выборки"
   ]
  },
  {
   "cell_type": "code",
   "execution_count": 21,
   "metadata": {},
   "outputs": [],
   "source": [
    "RFR = RF(max_depth=7, min_samples_leaf=5, n_estimators=75, random_state=42)"
   ]
  },
  {
   "cell_type": "code",
   "execution_count": 22,
   "metadata": {},
   "outputs": [],
   "source": [
    "data = data_base.copy()"
   ]
  },
  {
   "cell_type": "code",
   "execution_count": 23,
   "metadata": {},
   "outputs": [],
   "source": [
    "train, valid = train_test_split(data, test_size=0.3, random_state=42)"
   ]
  },
  {
   "cell_type": "code",
   "execution_count": 24,
   "metadata": {},
   "outputs": [],
   "source": [
    "train = prepare_df(train, train, data_stat1, data_stat2)"
   ]
  },
  {
   "cell_type": "code",
   "execution_count": 25,
   "metadata": {},
   "outputs": [
    {
     "data": {
      "text/plain": [
       "RandomForestRegressor(bootstrap=True, criterion='mse', max_depth=7,\n",
       "                      max_features='auto', max_leaf_nodes=None,\n",
       "                      min_impurity_decrease=0.0, min_impurity_split=None,\n",
       "                      min_samples_leaf=5, min_samples_split=2,\n",
       "                      min_weight_fraction_leaf=0.0, n_estimators=75,\n",
       "                      n_jobs=None, oob_score=False, random_state=42, verbose=0,\n",
       "                      warm_start=False)"
      ]
     },
     "execution_count": 25,
     "metadata": {},
     "output_type": "execute_result"
    }
   ],
   "source": [
    "RFR.fit(train.loc[:,feats], train.Price)"
   ]
  },
  {
   "cell_type": "code",
   "execution_count": 26,
   "metadata": {
    "scrolled": true
   },
   "outputs": [],
   "source": [
    "valid = prepare_df(valid, train, data_stat1, data_stat2, mode='test')"
   ]
  },
  {
   "cell_type": "code",
   "execution_count": 27,
   "metadata": {},
   "outputs": [
    {
     "name": "stdout",
     "output_type": "stream",
     "text": [
      "2350361512.838564 0.7267579101342894\n"
     ]
    }
   ],
   "source": [
    "y_pred = RFR.predict(valid.loc[:, feats])\n",
    "    \n",
    "print(mse(valid.Price, y_pred), r2(valid.Price, y_pred))"
   ]
  },
  {
   "cell_type": "markdown",
   "metadata": {},
   "source": [
    "## Обучение модели"
   ]
  },
  {
   "cell_type": "code",
   "execution_count": 29,
   "metadata": {},
   "outputs": [],
   "source": [
    "data = data_base.copy()\n",
    "data = prepare_df(data, data, data_stat1, data_stat2)"
   ]
  },
  {
   "cell_type": "code",
   "execution_count": 30,
   "metadata": {
    "scrolled": true
   },
   "outputs": [
    {
     "data": {
      "text/plain": [
       "RandomForestRegressor(bootstrap=True, criterion='mse', max_depth=7,\n",
       "                      max_features='auto', max_leaf_nodes=None,\n",
       "                      min_impurity_decrease=0.0, min_impurity_split=None,\n",
       "                      min_samples_leaf=5, min_samples_split=2,\n",
       "                      min_weight_fraction_leaf=0.0, n_estimators=75,\n",
       "                      n_jobs=None, oob_score=False, random_state=42, verbose=0,\n",
       "                      warm_start=False)"
      ]
     },
     "execution_count": 30,
     "metadata": {},
     "output_type": "execute_result"
    }
   ],
   "source": [
    "RFR.fit(data.loc[:,feats], data.Price)"
   ]
  },
  {
   "cell_type": "markdown",
   "metadata": {},
   "source": [
    "## Рассчет цены тестовой выборки"
   ]
  },
  {
   "cell_type": "code",
   "execution_count": 31,
   "metadata": {},
   "outputs": [],
   "source": [
    "test = pd.read_csv('test.csv')"
   ]
  },
  {
   "cell_type": "code",
   "execution_count": 32,
   "metadata": {},
   "outputs": [],
   "source": [
    "test = prepare_df(test, data, data_stat1, data_stat2, mode='test')"
   ]
  },
  {
   "cell_type": "code",
   "execution_count": 33,
   "metadata": {},
   "outputs": [],
   "source": [
    "test['Price'] = RFR.predict(test.loc[:, feats])"
   ]
  },
  {
   "cell_type": "code",
   "execution_count": 34,
   "metadata": {},
   "outputs": [],
   "source": [
    "test[['Id', 'Price']].to_csv('AKonstantinov_predictions.csv', index=False)"
   ]
  }
 ],
 "metadata": {
  "kernelspec": {
   "display_name": "Python 3",
   "language": "python",
   "name": "python3"
  },
  "language_info": {
   "codemirror_mode": {
    "name": "ipython",
    "version": 3
   },
   "file_extension": ".py",
   "mimetype": "text/x-python",
   "name": "python",
   "nbconvert_exporter": "python",
   "pygments_lexer": "ipython3",
   "version": "3.7.3"
  }
 },
 "nbformat": 4,
 "nbformat_minor": 2
}
